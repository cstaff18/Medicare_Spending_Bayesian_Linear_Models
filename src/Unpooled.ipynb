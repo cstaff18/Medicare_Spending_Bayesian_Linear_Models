{
 "cells": [
  {
   "cell_type": "code",
   "execution_count": null,
   "metadata": {
    "collapsed": true
   },
   "outputs": [],
   "source": [
    "county_names = X_train.cty_idx.unique.values\n",
    "\n",
    "indiv_traces = {}\n",
    "for county_name in county_names:\n",
    "    # Select subset of data belonging to county\n",
    "    c_data = X_train[X_train.cty_idx == county_name]\n",
    "    c_data = c_data.reset_index(drop=True)\n",
    "    \n",
    "    c_log_radon = c_data.log_radon\n",
    "    c_floor_measure = c_data.floor.values\n",
    "    \n",
    "    x1 = c_data.year.values\n",
    "    x2 = c_data.MA_Part_Rate.values\n",
    "    x3 = c_data.IP_per_1000.values\n",
    "    \n",
    "    with pm.Model() as individual_model:\n",
    "        # Intercept\n",
    "        a = pm.Normal('alpha', mu=0, sd = 1)\n",
    "        # Betas\n",
    "        b1 = pm.Normal('beta1', mu=0, sd=1)\n",
    "        b2 = pm.Normal('beta2', mu=0, sd = 1)\n",
    "        b3 = pm.Normal('beta3', mu=0, sd = 1)\n",
    "    \n",
    "        # Model error prior\n",
    "        eps = pm.HalfCauchy('eps', beta=1)\n",
    "    \n",
    "        # Linear model\n",
    "        cost_est = a + b1*x1 + b2*x2 + b3*x3\n",
    "    \n",
    "        # Data likelihood\n",
    "        y_like = pm.Normal('y_like', mu=cost_est, sd=eps, observed=c_data.Cost_per_Beneficiary)\n",
    "\n",
    "        # Inference button (TM)!\n",
    "        trace = pm.sample(progressbar=False)\n",
    "        \n",
    "    indiv_traces[county_name] = trace"
   ]
  },
  {
   "cell_type": "code",
   "execution_count": null,
   "metadata": {
    "collapsed": true
   },
   "outputs": [],
   "source": []
  }
 ],
 "metadata": {
  "kernelspec": {
   "display_name": "Python 3",
   "language": "python",
   "name": "python3"
  },
  "language_info": {
   "codemirror_mode": {
    "name": "ipython",
    "version": 3
   },
   "file_extension": ".py",
   "mimetype": "text/x-python",
   "name": "python",
   "nbconvert_exporter": "python",
   "pygments_lexer": "ipython3",
   "version": "3.6.3"
  }
 },
 "nbformat": 4,
 "nbformat_minor": 2
}
