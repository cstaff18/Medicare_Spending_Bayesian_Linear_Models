{
 "cells": [
  {
   "cell_type": "code",
   "execution_count": null,
   "metadata": {
    "collapsed": true
   },
   "outputs": [],
   "source": [
    "county_idx = X_train.cty_idx.values\n",
    "\n",
    "with pm.Model() as hierarchical_model:\n",
    "    # Hyperpriors\n",
    "    mu_a = pm.Normal('mu_alpha', mu=0., sd=1)\n",
    "    sigma_a = pm.HalfCauchy('sigma_alpha', beta=1)\n",
    "    \n",
    "    mu_b1 = pm.Normal('mu_beta1', mu=0., sd=1)\n",
    "    sigma_b1 = pm.HalfCauchy('sigma_beta1', beta=1)\n",
    "    \n",
    "    mu_b2 = pm.Normal('mu_beta2', mu=0., sd=1)\n",
    "    sigma_b2 = pm.HalfCauchy('sigma_beta2', beta=1)\n",
    "    \n",
    "    mu_b3 = pm.Normal('mu_beta3', mu=0., sd=1)\n",
    "    sigma_b3 = pm.HalfCauchy('sigma_beta3', beta=1)\n",
    "\n",
    "    # Intercept for each county, distributed around group mean mu_a\n",
    "    a = pm.Normal('alpha', mu=mu_a, sd=sigma_a, shape=len(county_idx))\n",
    "    # Beta for each county, distributed around group mean mu_beta_i\n",
    "    b1 = pm.Normal('beta1', mu=mu_b1, sd=sigma_b1, shape=len(county_idx))\n",
    "    b2 = pm.Normal('beta2', mu=mu_b2, sd=sigma_b2, shape=len(county_idx))\n",
    "    b3 = pm.Normal('beta3', mu=mu_b3, sd=sigma_b3, shape=len(county_idx))\n",
    "\n",
    "    # Model error\n",
    "    eps = pm.Uniform('sigma_eps', lower = 0, upper = 5000)\n",
    "\n",
    "    # Expected value\n",
    "    x1 = X_train.year.values\n",
    "    x2 = X_train.MA_Part_Rate.values\n",
    "    x3 = X_train.IP_per_1000.values\n",
    "    cost_est = a[county_idx] + b1[county_idx]*x1 + b2[county_idx]*x2 + b3[county_idx]*x3\n",
    "\n",
    "    # Data likelihood\n",
    "    y_like = pm.Normal('y_like', mu=cost_est, sd=eps, observed=X_train.Cost_per_Beneficiary)"
   ]
  }
 ],
 "metadata": {
  "kernelspec": {
   "display_name": "Python 3",
   "language": "python",
   "name": "python3"
  },
  "language_info": {
   "codemirror_mode": {
    "name": "ipython",
    "version": 3
   },
   "file_extension": ".py",
   "mimetype": "text/x-python",
   "name": "python",
   "nbconvert_exporter": "python",
   "pygments_lexer": "ipython3",
   "version": "3.6.3"
  }
 },
 "nbformat": 4,
 "nbformat_minor": 2
}
